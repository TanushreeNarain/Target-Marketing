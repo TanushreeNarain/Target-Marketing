{
  "nbformat": 4,
  "nbformat_minor": 0,
  "metadata": {
    "colab": {
      "provenance": []
    },
    "kernelspec": {
      "name": "python3",
      "display_name": "Python 3"
    },
    "language_info": {
      "name": "python"
    }
  },
  "cells": [
    {
      "cell_type": "code",
      "execution_count": null,
      "metadata": {
        "colab": {
          "base_uri": "https://localhost:8080/"
        },
        "id": "rJo3Rr-zWiB1",
        "outputId": "69650268-0e4c-447f-efbf-f3ba04cabe91"
      },
      "outputs": [
        {
          "output_type": "stream",
          "name": "stdout",
          "text": [
            "Mounted at /gdrive\n",
            "/gdrive\n"
          ]
        }
      ],
      "source": [
        "import pandas as pd\n",
        "from sklearn.preprocessing import label_binarize\n",
        "import numpy as np\n",
        "from sklearn.model_selection import train_test_split\n",
        "from sklearn.ensemble import RandomForestClassifier\n",
        "from sklearn.tree import DecisionTreeClassifier\n",
        "from sklearn.model_selection import GridSearchCV\n",
        "from sklearn.model_selection import RandomizedSearchCV\n",
        "from sklearn.model_selection import cross_val_score\n",
        "from sklearn.metrics import classification_report, confusion_matrix\n",
        "from sklearn.ensemble import GradientBoostingClassifier\n",
        "from sklearn.preprocessing import OneHotEncoder\n",
        "from sklearn import metrics #Import scikit-learn metrics module for accuracy calculation\n",
        "\n",
        "import warnings\n",
        "warnings.filterwarnings(\"ignore\")\n",
        "#Please ignore the warnings with version change\n",
        "\n",
        "from google.colab import drive\n",
        "drive.mount('/gdrive')\n",
        "#Change current working directory to gdrive\n",
        "%cd /gdrive"
      ]
    },
    {
      "cell_type": "code",
      "source": [
        "trainfile = r'/gdrive/My Drive/Portugese Bank Data - TRAIN.csv'\n",
        "trainData = pd.read_csv(trainfile) #creates a dataframe\n",
        "testfile = r'/gdrive/My Drive/Portugese Bank Data - TEST.csv'\n",
        "testData = pd.read_csv(testfile)  #creates a dataframe\n",
        "\n",
        "\n",
        "print(trainData.shape)\n",
        "print(testData.shape)"
      ],
      "metadata": {
        "colab": {
          "base_uri": "https://localhost:8080/"
        },
        "id": "1ObDKxs1XmvW",
        "outputId": "4c2d4683-6649-4abb-85f4-493ff6b5aea3"
      },
      "execution_count": null,
      "outputs": [
        {
          "output_type": "stream",
          "name": "stdout",
          "text": [
            "(4521, 17)\n",
            "(45211, 17)\n"
          ]
        }
      ]
    },
    {
      "cell_type": "code",
      "source": [
        "trainData.info()"
      ],
      "metadata": {
        "colab": {
          "base_uri": "https://localhost:8080/"
        },
        "id": "imd6_DvyYIP7",
        "outputId": "1eaebe2d-2795-474f-b8bb-9dd52dbba803"
      },
      "execution_count": null,
      "outputs": [
        {
          "output_type": "stream",
          "name": "stdout",
          "text": [
            "<class 'pandas.core.frame.DataFrame'>\n",
            "RangeIndex: 4521 entries, 0 to 4520\n",
            "Data columns (total 17 columns):\n",
            " #   Column     Non-Null Count  Dtype \n",
            "---  ------     --------------  ----- \n",
            " 0   age        4521 non-null   int64 \n",
            " 1   job        4521 non-null   object\n",
            " 2   marital    4521 non-null   object\n",
            " 3   education  4521 non-null   object\n",
            " 4   default    4521 non-null   object\n",
            " 5   balance    4521 non-null   int64 \n",
            " 6   housing    4521 non-null   object\n",
            " 7   loan       4521 non-null   object\n",
            " 8   contact    4521 non-null   object\n",
            " 9   day        4521 non-null   int64 \n",
            " 10  month      4521 non-null   object\n",
            " 11  duration   4521 non-null   int64 \n",
            " 12  campaign   4521 non-null   int64 \n",
            " 13  pdays      4521 non-null   int64 \n",
            " 14  previous   4521 non-null   int64 \n",
            " 15  poutcome   4521 non-null   object\n",
            " 16  y          4521 non-null   object\n",
            "dtypes: int64(7), object(10)\n",
            "memory usage: 600.6+ KB\n"
          ]
        }
      ]
    },
    {
      "cell_type": "code",
      "source": [
        "testData.info()"
      ],
      "metadata": {
        "colab": {
          "base_uri": "https://localhost:8080/"
        },
        "id": "zEMk1_PkYbJS",
        "outputId": "88cfc5a9-9887-4e51-f837-42dd8f3dac3c"
      },
      "execution_count": null,
      "outputs": [
        {
          "output_type": "stream",
          "name": "stdout",
          "text": [
            "<class 'pandas.core.frame.DataFrame'>\n",
            "RangeIndex: 45211 entries, 0 to 45210\n",
            "Data columns (total 17 columns):\n",
            " #   Column     Non-Null Count  Dtype \n",
            "---  ------     --------------  ----- \n",
            " 0   age        45211 non-null  int64 \n",
            " 1   job        45211 non-null  object\n",
            " 2   marital    45211 non-null  object\n",
            " 3   education  45211 non-null  object\n",
            " 4   default    45211 non-null  object\n",
            " 5   balance    45211 non-null  int64 \n",
            " 6   housing    45211 non-null  object\n",
            " 7   loan       45211 non-null  object\n",
            " 8   contact    45211 non-null  object\n",
            " 9   day        45211 non-null  int64 \n",
            " 10  month      45211 non-null  object\n",
            " 11  duration   45211 non-null  int64 \n",
            " 12  campaign   45211 non-null  int64 \n",
            " 13  pdays      45211 non-null  int64 \n",
            " 14  previous   45211 non-null  int64 \n",
            " 15  poutcome   45211 non-null  object\n",
            " 16  y          45211 non-null  object\n",
            "dtypes: int64(7), object(10)\n",
            "memory usage: 5.9+ MB\n"
          ]
        }
      ]
    },
    {
      "cell_type": "code",
      "source": [
        "TrainCols = list(trainData.columns.values)\n",
        "TestCols = list(testData.columns.values)\n",
        "print(TrainCols)\n",
        "print(TestCols)"
      ],
      "metadata": {
        "colab": {
          "base_uri": "https://localhost:8080/"
        },
        "id": "lzDVVdrXYe5A",
        "outputId": "db29448a-df7f-4ba2-b1a8-dc3e947254f1"
      },
      "execution_count": null,
      "outputs": [
        {
          "output_type": "stream",
          "name": "stdout",
          "text": [
            "['age', 'job', 'marital', 'education', 'default', 'balance', 'housing', 'loan', 'contact', 'day', 'month', 'duration', 'campaign', 'pdays', 'previous', 'poutcome', 'y']\n",
            "['age', 'job', 'marital', 'education', 'default', 'balance', 'housing', 'loan', 'contact', 'day', 'month', 'duration', 'campaign', 'pdays', 'previous', 'poutcome', 'y']\n"
          ]
        }
      ]
    },
    {
      "cell_type": "code",
      "source": [
        "Xtrain = trainData[TrainCols[0:len(TrainCols)-1]].copy()\n",
        "Ytrain = trainData[['y']].copy()\n",
        "print(\"Train Set shape:\")\n",
        "print(Xtrain.shape)\n",
        "print(Ytrain.shape)\n",
        "Xtest = testData[TestCols[0:len(TestCols)-1]].copy()\n",
        "Ytest = testData[['y']].copy()\n",
        "print(\"Test Set shape:\")\n",
        "print(Xtest.shape)\n",
        "print(Ytest.shape)"
      ],
      "metadata": {
        "colab": {
          "base_uri": "https://localhost:8080/"
        },
        "id": "rURKmgiLYrmX",
        "outputId": "0238f67d-4bf4-4e1d-846c-d04e6a879ed8"
      },
      "execution_count": null,
      "outputs": [
        {
          "output_type": "stream",
          "name": "stdout",
          "text": [
            "Train Set shape:\n",
            "(4521, 16)\n",
            "(4521, 1)\n",
            "Test Set shape:\n",
            "(45211, 16)\n",
            "(45211, 1)\n"
          ]
        }
      ]
    },
    {
      "cell_type": "code",
      "source": [
        "categoricalFeatures = ['job', 'marital', 'education', 'default', 'housing', 'loan', 'contact', 'month', 'poutcome']"
      ],
      "metadata": {
        "id": "DG3KW8JjY2OA"
      },
      "execution_count": null,
      "outputs": []
    },
    {
      "cell_type": "code",
      "source": [
        "ohe = OneHotEncoder(handle_unknown='ignore',sparse=False)\n",
        "Xcat = pd.DataFrame(ohe.fit_transform(Xtrain[categoricalFeatures]),columns=ohe.get_feature_names(),index=Xtrain.index)\n",
        "Xtrain = pd.concat([Xtrain,Xcat],axis=1)\n",
        "Xtrain.drop(labels=categoricalFeatures,axis=1,inplace=True)\n",
        "Xtrain.sample(5)"
      ],
      "metadata": {
        "colab": {
          "base_uri": "https://localhost:8080/",
          "height": 317
        },
        "id": "NYQ3yEzGdork",
        "outputId": "9f37aee3-de5d-4a8f-d45b-00cb0a31bc43"
      },
      "execution_count": null,
      "outputs": [
        {
          "output_type": "execute_result",
          "data": {
            "text/plain": [
              "      age  balance  day  duration  campaign  pdays  previous  x0_admin.  \\\n",
              "468    40    10378   17       523         3     -1         0        0.0   \n",
              "3898   59      748   29       184         1     -1         0        0.0   \n",
              "3091   38      376    7      1521         1     -1         0        0.0   \n",
              "4193   48     3186    9       104         1     -1         0        0.0   \n",
              "2363   56      659    2        56         1     -1         0        0.0   \n",
              "\n",
              "      x0_blue-collar  x0_entrepreneur  ...  x7_jun  x7_mar  x7_may  x7_nov  \\\n",
              "468              0.0              0.0  ...     0.0     0.0     0.0     1.0   \n",
              "3898             1.0              0.0  ...     0.0     0.0     1.0     0.0   \n",
              "3091             1.0              0.0  ...     0.0     0.0     1.0     0.0   \n",
              "4193             0.0              0.0  ...     0.0     0.0     0.0     0.0   \n",
              "2363             0.0              0.0  ...     1.0     0.0     0.0     0.0   \n",
              "\n",
              "      x7_oct  x7_sep  x8_failure  x8_other  x8_success  x8_unknown  \n",
              "468      0.0     0.0         0.0       0.0         0.0         1.0  \n",
              "3898     0.0     0.0         0.0       0.0         0.0         1.0  \n",
              "3091     0.0     0.0         0.0       0.0         0.0         1.0  \n",
              "4193     0.0     0.0         0.0       0.0         0.0         1.0  \n",
              "2363     0.0     0.0         0.0       0.0         0.0         1.0  \n",
              "\n",
              "[5 rows x 51 columns]"
            ],
            "text/html": [
              "\n",
              "  <div id=\"df-bbbe7ffe-1d37-4b46-adf2-eda71bbd1396\">\n",
              "    <div class=\"colab-df-container\">\n",
              "      <div>\n",
              "<style scoped>\n",
              "    .dataframe tbody tr th:only-of-type {\n",
              "        vertical-align: middle;\n",
              "    }\n",
              "\n",
              "    .dataframe tbody tr th {\n",
              "        vertical-align: top;\n",
              "    }\n",
              "\n",
              "    .dataframe thead th {\n",
              "        text-align: right;\n",
              "    }\n",
              "</style>\n",
              "<table border=\"1\" class=\"dataframe\">\n",
              "  <thead>\n",
              "    <tr style=\"text-align: right;\">\n",
              "      <th></th>\n",
              "      <th>age</th>\n",
              "      <th>balance</th>\n",
              "      <th>day</th>\n",
              "      <th>duration</th>\n",
              "      <th>campaign</th>\n",
              "      <th>pdays</th>\n",
              "      <th>previous</th>\n",
              "      <th>x0_admin.</th>\n",
              "      <th>x0_blue-collar</th>\n",
              "      <th>x0_entrepreneur</th>\n",
              "      <th>...</th>\n",
              "      <th>x7_jun</th>\n",
              "      <th>x7_mar</th>\n",
              "      <th>x7_may</th>\n",
              "      <th>x7_nov</th>\n",
              "      <th>x7_oct</th>\n",
              "      <th>x7_sep</th>\n",
              "      <th>x8_failure</th>\n",
              "      <th>x8_other</th>\n",
              "      <th>x8_success</th>\n",
              "      <th>x8_unknown</th>\n",
              "    </tr>\n",
              "  </thead>\n",
              "  <tbody>\n",
              "    <tr>\n",
              "      <th>468</th>\n",
              "      <td>40</td>\n",
              "      <td>10378</td>\n",
              "      <td>17</td>\n",
              "      <td>523</td>\n",
              "      <td>3</td>\n",
              "      <td>-1</td>\n",
              "      <td>0</td>\n",
              "      <td>0.0</td>\n",
              "      <td>0.0</td>\n",
              "      <td>0.0</td>\n",
              "      <td>...</td>\n",
              "      <td>0.0</td>\n",
              "      <td>0.0</td>\n",
              "      <td>0.0</td>\n",
              "      <td>1.0</td>\n",
              "      <td>0.0</td>\n",
              "      <td>0.0</td>\n",
              "      <td>0.0</td>\n",
              "      <td>0.0</td>\n",
              "      <td>0.0</td>\n",
              "      <td>1.0</td>\n",
              "    </tr>\n",
              "    <tr>\n",
              "      <th>3898</th>\n",
              "      <td>59</td>\n",
              "      <td>748</td>\n",
              "      <td>29</td>\n",
              "      <td>184</td>\n",
              "      <td>1</td>\n",
              "      <td>-1</td>\n",
              "      <td>0</td>\n",
              "      <td>0.0</td>\n",
              "      <td>1.0</td>\n",
              "      <td>0.0</td>\n",
              "      <td>...</td>\n",
              "      <td>0.0</td>\n",
              "      <td>0.0</td>\n",
              "      <td>1.0</td>\n",
              "      <td>0.0</td>\n",
              "      <td>0.0</td>\n",
              "      <td>0.0</td>\n",
              "      <td>0.0</td>\n",
              "      <td>0.0</td>\n",
              "      <td>0.0</td>\n",
              "      <td>1.0</td>\n",
              "    </tr>\n",
              "    <tr>\n",
              "      <th>3091</th>\n",
              "      <td>38</td>\n",
              "      <td>376</td>\n",
              "      <td>7</td>\n",
              "      <td>1521</td>\n",
              "      <td>1</td>\n",
              "      <td>-1</td>\n",
              "      <td>0</td>\n",
              "      <td>0.0</td>\n",
              "      <td>1.0</td>\n",
              "      <td>0.0</td>\n",
              "      <td>...</td>\n",
              "      <td>0.0</td>\n",
              "      <td>0.0</td>\n",
              "      <td>1.0</td>\n",
              "      <td>0.0</td>\n",
              "      <td>0.0</td>\n",
              "      <td>0.0</td>\n",
              "      <td>0.0</td>\n",
              "      <td>0.0</td>\n",
              "      <td>0.0</td>\n",
              "      <td>1.0</td>\n",
              "    </tr>\n",
              "    <tr>\n",
              "      <th>4193</th>\n",
              "      <td>48</td>\n",
              "      <td>3186</td>\n",
              "      <td>9</td>\n",
              "      <td>104</td>\n",
              "      <td>1</td>\n",
              "      <td>-1</td>\n",
              "      <td>0</td>\n",
              "      <td>0.0</td>\n",
              "      <td>0.0</td>\n",
              "      <td>0.0</td>\n",
              "      <td>...</td>\n",
              "      <td>0.0</td>\n",
              "      <td>0.0</td>\n",
              "      <td>0.0</td>\n",
              "      <td>0.0</td>\n",
              "      <td>0.0</td>\n",
              "      <td>0.0</td>\n",
              "      <td>0.0</td>\n",
              "      <td>0.0</td>\n",
              "      <td>0.0</td>\n",
              "      <td>1.0</td>\n",
              "    </tr>\n",
              "    <tr>\n",
              "      <th>2363</th>\n",
              "      <td>56</td>\n",
              "      <td>659</td>\n",
              "      <td>2</td>\n",
              "      <td>56</td>\n",
              "      <td>1</td>\n",
              "      <td>-1</td>\n",
              "      <td>0</td>\n",
              "      <td>0.0</td>\n",
              "      <td>0.0</td>\n",
              "      <td>0.0</td>\n",
              "      <td>...</td>\n",
              "      <td>1.0</td>\n",
              "      <td>0.0</td>\n",
              "      <td>0.0</td>\n",
              "      <td>0.0</td>\n",
              "      <td>0.0</td>\n",
              "      <td>0.0</td>\n",
              "      <td>0.0</td>\n",
              "      <td>0.0</td>\n",
              "      <td>0.0</td>\n",
              "      <td>1.0</td>\n",
              "    </tr>\n",
              "  </tbody>\n",
              "</table>\n",
              "<p>5 rows × 51 columns</p>\n",
              "</div>\n",
              "      <button class=\"colab-df-convert\" onclick=\"convertToInteractive('df-bbbe7ffe-1d37-4b46-adf2-eda71bbd1396')\"\n",
              "              title=\"Convert this dataframe to an interactive table.\"\n",
              "              style=\"display:none;\">\n",
              "        \n",
              "  <svg xmlns=\"http://www.w3.org/2000/svg\" height=\"24px\"viewBox=\"0 0 24 24\"\n",
              "       width=\"24px\">\n",
              "    <path d=\"M0 0h24v24H0V0z\" fill=\"none\"/>\n",
              "    <path d=\"M18.56 5.44l.94 2.06.94-2.06 2.06-.94-2.06-.94-.94-2.06-.94 2.06-2.06.94zm-11 1L8.5 8.5l.94-2.06 2.06-.94-2.06-.94L8.5 2.5l-.94 2.06-2.06.94zm10 10l.94 2.06.94-2.06 2.06-.94-2.06-.94-.94-2.06-.94 2.06-2.06.94z\"/><path d=\"M17.41 7.96l-1.37-1.37c-.4-.4-.92-.59-1.43-.59-.52 0-1.04.2-1.43.59L10.3 9.45l-7.72 7.72c-.78.78-.78 2.05 0 2.83L4 21.41c.39.39.9.59 1.41.59.51 0 1.02-.2 1.41-.59l7.78-7.78 2.81-2.81c.8-.78.8-2.07 0-2.86zM5.41 20L4 18.59l7.72-7.72 1.47 1.35L5.41 20z\"/>\n",
              "  </svg>\n",
              "      </button>\n",
              "      \n",
              "  <style>\n",
              "    .colab-df-container {\n",
              "      display:flex;\n",
              "      flex-wrap:wrap;\n",
              "      gap: 12px;\n",
              "    }\n",
              "\n",
              "    .colab-df-convert {\n",
              "      background-color: #E8F0FE;\n",
              "      border: none;\n",
              "      border-radius: 50%;\n",
              "      cursor: pointer;\n",
              "      display: none;\n",
              "      fill: #1967D2;\n",
              "      height: 32px;\n",
              "      padding: 0 0 0 0;\n",
              "      width: 32px;\n",
              "    }\n",
              "\n",
              "    .colab-df-convert:hover {\n",
              "      background-color: #E2EBFA;\n",
              "      box-shadow: 0px 1px 2px rgba(60, 64, 67, 0.3), 0px 1px 3px 1px rgba(60, 64, 67, 0.15);\n",
              "      fill: #174EA6;\n",
              "    }\n",
              "\n",
              "    [theme=dark] .colab-df-convert {\n",
              "      background-color: #3B4455;\n",
              "      fill: #D2E3FC;\n",
              "    }\n",
              "\n",
              "    [theme=dark] .colab-df-convert:hover {\n",
              "      background-color: #434B5C;\n",
              "      box-shadow: 0px 1px 3px 1px rgba(0, 0, 0, 0.15);\n",
              "      filter: drop-shadow(0px 1px 2px rgba(0, 0, 0, 0.3));\n",
              "      fill: #FFFFFF;\n",
              "    }\n",
              "  </style>\n",
              "\n",
              "      <script>\n",
              "        const buttonEl =\n",
              "          document.querySelector('#df-bbbe7ffe-1d37-4b46-adf2-eda71bbd1396 button.colab-df-convert');\n",
              "        buttonEl.style.display =\n",
              "          google.colab.kernel.accessAllowed ? 'block' : 'none';\n",
              "\n",
              "        async function convertToInteractive(key) {\n",
              "          const element = document.querySelector('#df-bbbe7ffe-1d37-4b46-adf2-eda71bbd1396');\n",
              "          const dataTable =\n",
              "            await google.colab.kernel.invokeFunction('convertToInteractive',\n",
              "                                                     [key], {});\n",
              "          if (!dataTable) return;\n",
              "\n",
              "          const docLinkHtml = 'Like what you see? Visit the ' +\n",
              "            '<a target=\"_blank\" href=https://colab.research.google.com/notebooks/data_table.ipynb>data table notebook</a>'\n",
              "            + ' to learn more about interactive tables.';\n",
              "          element.innerHTML = '';\n",
              "          dataTable['output_type'] = 'display_data';\n",
              "          await google.colab.output.renderOutput(dataTable, element);\n",
              "          const docLink = document.createElement('div');\n",
              "          docLink.innerHTML = docLinkHtml;\n",
              "          element.appendChild(docLink);\n",
              "        }\n",
              "      </script>\n",
              "    </div>\n",
              "  </div>\n",
              "  "
            ]
          },
          "metadata": {},
          "execution_count": 11
        }
      ]
    },
    {
      "cell_type": "code",
      "source": [
        "Xcat = pd.DataFrame(ohe.transform(Xtest[categoricalFeatures]),columns=ohe.get_feature_names(),index=Xtest.index)\n",
        "Xtest = pd.concat([Xtest,Xcat],axis=1)\n",
        "Xtest.drop(labels=categoricalFeatures,axis=1,inplace=True)\n",
        "print(Xtest.shape)\n",
        "print(Ytest.shape)\n",
        "Xtest.sample(5)"
      ],
      "metadata": {
        "colab": {
          "base_uri": "https://localhost:8080/",
          "height": 351
        },
        "id": "oMFuYzI5h2yV",
        "outputId": "539054f3-80a9-4b51-a66d-01c0defbeb0b"
      },
      "execution_count": null,
      "outputs": [
        {
          "output_type": "stream",
          "name": "stdout",
          "text": [
            "(45211, 51)\n",
            "(45211, 1)\n"
          ]
        },
        {
          "output_type": "execute_result",
          "data": {
            "text/plain": [
              "       age  balance  day  duration  campaign  pdays  previous  x0_admin.  \\\n",
              "42464   57      698    9       135         3    191         2        0.0   \n",
              "669     47      201    6        92         2     -1         0        0.0   \n",
              "18159   44     1326   30        96         1     -1         0        0.0   \n",
              "14305   30      635   14       209         2     -1         0        0.0   \n",
              "40863   21      123   12       449         1     -1         0        0.0   \n",
              "\n",
              "       x0_blue-collar  x0_entrepreneur  ...  x7_jun  x7_mar  x7_may  x7_nov  \\\n",
              "42464             0.0              0.0  ...     0.0     0.0     0.0     0.0   \n",
              "669               0.0              0.0  ...     0.0     0.0     1.0     0.0   \n",
              "18159             0.0              0.0  ...     0.0     0.0     0.0     0.0   \n",
              "14305             0.0              0.0  ...     0.0     0.0     0.0     0.0   \n",
              "40863             0.0              0.0  ...     0.0     0.0     0.0     0.0   \n",
              "\n",
              "       x7_oct  x7_sep  x8_failure  x8_other  x8_success  x8_unknown  \n",
              "42464     0.0     0.0         1.0       0.0         0.0         0.0  \n",
              "669       0.0     0.0         0.0       0.0         0.0         1.0  \n",
              "18159     0.0     0.0         0.0       0.0         0.0         1.0  \n",
              "14305     0.0     0.0         0.0       0.0         0.0         1.0  \n",
              "40863     0.0     0.0         0.0       0.0         0.0         1.0  \n",
              "\n",
              "[5 rows x 51 columns]"
            ],
            "text/html": [
              "\n",
              "  <div id=\"df-88e12a8a-2da9-43ed-9dfe-be9092320570\">\n",
              "    <div class=\"colab-df-container\">\n",
              "      <div>\n",
              "<style scoped>\n",
              "    .dataframe tbody tr th:only-of-type {\n",
              "        vertical-align: middle;\n",
              "    }\n",
              "\n",
              "    .dataframe tbody tr th {\n",
              "        vertical-align: top;\n",
              "    }\n",
              "\n",
              "    .dataframe thead th {\n",
              "        text-align: right;\n",
              "    }\n",
              "</style>\n",
              "<table border=\"1\" class=\"dataframe\">\n",
              "  <thead>\n",
              "    <tr style=\"text-align: right;\">\n",
              "      <th></th>\n",
              "      <th>age</th>\n",
              "      <th>balance</th>\n",
              "      <th>day</th>\n",
              "      <th>duration</th>\n",
              "      <th>campaign</th>\n",
              "      <th>pdays</th>\n",
              "      <th>previous</th>\n",
              "      <th>x0_admin.</th>\n",
              "      <th>x0_blue-collar</th>\n",
              "      <th>x0_entrepreneur</th>\n",
              "      <th>...</th>\n",
              "      <th>x7_jun</th>\n",
              "      <th>x7_mar</th>\n",
              "      <th>x7_may</th>\n",
              "      <th>x7_nov</th>\n",
              "      <th>x7_oct</th>\n",
              "      <th>x7_sep</th>\n",
              "      <th>x8_failure</th>\n",
              "      <th>x8_other</th>\n",
              "      <th>x8_success</th>\n",
              "      <th>x8_unknown</th>\n",
              "    </tr>\n",
              "  </thead>\n",
              "  <tbody>\n",
              "    <tr>\n",
              "      <th>42464</th>\n",
              "      <td>57</td>\n",
              "      <td>698</td>\n",
              "      <td>9</td>\n",
              "      <td>135</td>\n",
              "      <td>3</td>\n",
              "      <td>191</td>\n",
              "      <td>2</td>\n",
              "      <td>0.0</td>\n",
              "      <td>0.0</td>\n",
              "      <td>0.0</td>\n",
              "      <td>...</td>\n",
              "      <td>0.0</td>\n",
              "      <td>0.0</td>\n",
              "      <td>0.0</td>\n",
              "      <td>0.0</td>\n",
              "      <td>0.0</td>\n",
              "      <td>0.0</td>\n",
              "      <td>1.0</td>\n",
              "      <td>0.0</td>\n",
              "      <td>0.0</td>\n",
              "      <td>0.0</td>\n",
              "    </tr>\n",
              "    <tr>\n",
              "      <th>669</th>\n",
              "      <td>47</td>\n",
              "      <td>201</td>\n",
              "      <td>6</td>\n",
              "      <td>92</td>\n",
              "      <td>2</td>\n",
              "      <td>-1</td>\n",
              "      <td>0</td>\n",
              "      <td>0.0</td>\n",
              "      <td>0.0</td>\n",
              "      <td>0.0</td>\n",
              "      <td>...</td>\n",
              "      <td>0.0</td>\n",
              "      <td>0.0</td>\n",
              "      <td>1.0</td>\n",
              "      <td>0.0</td>\n",
              "      <td>0.0</td>\n",
              "      <td>0.0</td>\n",
              "      <td>0.0</td>\n",
              "      <td>0.0</td>\n",
              "      <td>0.0</td>\n",
              "      <td>1.0</td>\n",
              "    </tr>\n",
              "    <tr>\n",
              "      <th>18159</th>\n",
              "      <td>44</td>\n",
              "      <td>1326</td>\n",
              "      <td>30</td>\n",
              "      <td>96</td>\n",
              "      <td>1</td>\n",
              "      <td>-1</td>\n",
              "      <td>0</td>\n",
              "      <td>0.0</td>\n",
              "      <td>0.0</td>\n",
              "      <td>0.0</td>\n",
              "      <td>...</td>\n",
              "      <td>0.0</td>\n",
              "      <td>0.0</td>\n",
              "      <td>0.0</td>\n",
              "      <td>0.0</td>\n",
              "      <td>0.0</td>\n",
              "      <td>0.0</td>\n",
              "      <td>0.0</td>\n",
              "      <td>0.0</td>\n",
              "      <td>0.0</td>\n",
              "      <td>1.0</td>\n",
              "    </tr>\n",
              "    <tr>\n",
              "      <th>14305</th>\n",
              "      <td>30</td>\n",
              "      <td>635</td>\n",
              "      <td>14</td>\n",
              "      <td>209</td>\n",
              "      <td>2</td>\n",
              "      <td>-1</td>\n",
              "      <td>0</td>\n",
              "      <td>0.0</td>\n",
              "      <td>0.0</td>\n",
              "      <td>0.0</td>\n",
              "      <td>...</td>\n",
              "      <td>0.0</td>\n",
              "      <td>0.0</td>\n",
              "      <td>0.0</td>\n",
              "      <td>0.0</td>\n",
              "      <td>0.0</td>\n",
              "      <td>0.0</td>\n",
              "      <td>0.0</td>\n",
              "      <td>0.0</td>\n",
              "      <td>0.0</td>\n",
              "      <td>1.0</td>\n",
              "    </tr>\n",
              "    <tr>\n",
              "      <th>40863</th>\n",
              "      <td>21</td>\n",
              "      <td>123</td>\n",
              "      <td>12</td>\n",
              "      <td>449</td>\n",
              "      <td>1</td>\n",
              "      <td>-1</td>\n",
              "      <td>0</td>\n",
              "      <td>0.0</td>\n",
              "      <td>0.0</td>\n",
              "      <td>0.0</td>\n",
              "      <td>...</td>\n",
              "      <td>0.0</td>\n",
              "      <td>0.0</td>\n",
              "      <td>0.0</td>\n",
              "      <td>0.0</td>\n",
              "      <td>0.0</td>\n",
              "      <td>0.0</td>\n",
              "      <td>0.0</td>\n",
              "      <td>0.0</td>\n",
              "      <td>0.0</td>\n",
              "      <td>1.0</td>\n",
              "    </tr>\n",
              "  </tbody>\n",
              "</table>\n",
              "<p>5 rows × 51 columns</p>\n",
              "</div>\n",
              "      <button class=\"colab-df-convert\" onclick=\"convertToInteractive('df-88e12a8a-2da9-43ed-9dfe-be9092320570')\"\n",
              "              title=\"Convert this dataframe to an interactive table.\"\n",
              "              style=\"display:none;\">\n",
              "        \n",
              "  <svg xmlns=\"http://www.w3.org/2000/svg\" height=\"24px\"viewBox=\"0 0 24 24\"\n",
              "       width=\"24px\">\n",
              "    <path d=\"M0 0h24v24H0V0z\" fill=\"none\"/>\n",
              "    <path d=\"M18.56 5.44l.94 2.06.94-2.06 2.06-.94-2.06-.94-.94-2.06-.94 2.06-2.06.94zm-11 1L8.5 8.5l.94-2.06 2.06-.94-2.06-.94L8.5 2.5l-.94 2.06-2.06.94zm10 10l.94 2.06.94-2.06 2.06-.94-2.06-.94-.94-2.06-.94 2.06-2.06.94z\"/><path d=\"M17.41 7.96l-1.37-1.37c-.4-.4-.92-.59-1.43-.59-.52 0-1.04.2-1.43.59L10.3 9.45l-7.72 7.72c-.78.78-.78 2.05 0 2.83L4 21.41c.39.39.9.59 1.41.59.51 0 1.02-.2 1.41-.59l7.78-7.78 2.81-2.81c.8-.78.8-2.07 0-2.86zM5.41 20L4 18.59l7.72-7.72 1.47 1.35L5.41 20z\"/>\n",
              "  </svg>\n",
              "      </button>\n",
              "      \n",
              "  <style>\n",
              "    .colab-df-container {\n",
              "      display:flex;\n",
              "      flex-wrap:wrap;\n",
              "      gap: 12px;\n",
              "    }\n",
              "\n",
              "    .colab-df-convert {\n",
              "      background-color: #E8F0FE;\n",
              "      border: none;\n",
              "      border-radius: 50%;\n",
              "      cursor: pointer;\n",
              "      display: none;\n",
              "      fill: #1967D2;\n",
              "      height: 32px;\n",
              "      padding: 0 0 0 0;\n",
              "      width: 32px;\n",
              "    }\n",
              "\n",
              "    .colab-df-convert:hover {\n",
              "      background-color: #E2EBFA;\n",
              "      box-shadow: 0px 1px 2px rgba(60, 64, 67, 0.3), 0px 1px 3px 1px rgba(60, 64, 67, 0.15);\n",
              "      fill: #174EA6;\n",
              "    }\n",
              "\n",
              "    [theme=dark] .colab-df-convert {\n",
              "      background-color: #3B4455;\n",
              "      fill: #D2E3FC;\n",
              "    }\n",
              "\n",
              "    [theme=dark] .colab-df-convert:hover {\n",
              "      background-color: #434B5C;\n",
              "      box-shadow: 0px 1px 3px 1px rgba(0, 0, 0, 0.15);\n",
              "      filter: drop-shadow(0px 1px 2px rgba(0, 0, 0, 0.3));\n",
              "      fill: #FFFFFF;\n",
              "    }\n",
              "  </style>\n",
              "\n",
              "      <script>\n",
              "        const buttonEl =\n",
              "          document.querySelector('#df-88e12a8a-2da9-43ed-9dfe-be9092320570 button.colab-df-convert');\n",
              "        buttonEl.style.display =\n",
              "          google.colab.kernel.accessAllowed ? 'block' : 'none';\n",
              "\n",
              "        async function convertToInteractive(key) {\n",
              "          const element = document.querySelector('#df-88e12a8a-2da9-43ed-9dfe-be9092320570');\n",
              "          const dataTable =\n",
              "            await google.colab.kernel.invokeFunction('convertToInteractive',\n",
              "                                                     [key], {});\n",
              "          if (!dataTable) return;\n",
              "\n",
              "          const docLinkHtml = 'Like what you see? Visit the ' +\n",
              "            '<a target=\"_blank\" href=https://colab.research.google.com/notebooks/data_table.ipynb>data table notebook</a>'\n",
              "            + ' to learn more about interactive tables.';\n",
              "          element.innerHTML = '';\n",
              "          dataTable['output_type'] = 'display_data';\n",
              "          await google.colab.output.renderOutput(dataTable, element);\n",
              "          const docLink = document.createElement('div');\n",
              "          docLink.innerHTML = docLinkHtml;\n",
              "          element.appendChild(docLink);\n",
              "        }\n",
              "      </script>\n",
              "    </div>\n",
              "  </div>\n",
              "  "
            ]
          },
          "metadata": {},
          "execution_count": 12
        }
      ]
    },
    {
      "cell_type": "code",
      "source": [
        "dt = DecisionTreeClassifier()\n",
        "dt.fit(Xtrain, Ytrain)"
      ],
      "metadata": {
        "colab": {
          "base_uri": "https://localhost:8080/"
        },
        "id": "1ZJFK0Tlh6gJ",
        "outputId": "cc10733d-0d3f-4d97-86f7-1326f8a8b0ae"
      },
      "execution_count": null,
      "outputs": [
        {
          "output_type": "execute_result",
          "data": {
            "text/plain": [
              "DecisionTreeClassifier()"
            ]
          },
          "metadata": {},
          "execution_count": 13
        }
      ]
    },
    {
      "cell_type": "code",
      "source": [
        "rf = RandomForestClassifier()\n",
        "rf.fit(Xtrain, Ytrain)"
      ],
      "metadata": {
        "colab": {
          "base_uri": "https://localhost:8080/"
        },
        "id": "z4V2hqUwindS",
        "outputId": "793f09f5-1741-48e4-976c-9b3461394148"
      },
      "execution_count": null,
      "outputs": [
        {
          "output_type": "execute_result",
          "data": {
            "text/plain": [
              "RandomForestClassifier()"
            ]
          },
          "metadata": {},
          "execution_count": 14
        }
      ]
    },
    {
      "cell_type": "code",
      "source": [
        "X_Pred = dt.predict(Xtest)\n",
        "XPred = dt.predict(Xtrain)\n",
        "print(\"Train Accuracy:\", metrics.accuracy_score(Ytrain,XPred))\n",
        "print(\"Test Accuracy:\", metrics.accuracy_score(Ytest,X_Pred))\n",
        "print(\"Confusion Matrix for Decision Tree:\")\n",
        "print(confusion_matrix(Ytest,X_Pred))\n",
        "print(\"Max Depth\",dt.get_depth())\n",
        "print(\"Leaf\",dt.get_n_leaves())\n",
        "print('Printing the precision and recall, among other metrics')\n",
        "print(metrics.classification_report(Ytest, X_Pred))"
      ],
      "metadata": {
        "colab": {
          "base_uri": "https://localhost:8080/"
        },
        "id": "0eLkSKQAlAnQ",
        "outputId": "56b1a810-8c84-4d0a-b0b4-3b9d72183e42"
      },
      "execution_count": null,
      "outputs": [
        {
          "output_type": "stream",
          "name": "stdout",
          "text": [
            "Train Accuracy: 1.0\n",
            "Test Accuracy: 0.8837672247904271\n",
            "Confusion Matrix for Decision Tree:\n",
            "[[37244  2678]\n",
            " [ 2577  2712]]\n",
            "Max Depth 26\n",
            "Leaf 380\n",
            "Printing the precision and recall, among other metrics\n",
            "              precision    recall  f1-score   support\n",
            "\n",
            "          no       0.94      0.93      0.93     39922\n",
            "         yes       0.50      0.51      0.51      5289\n",
            "\n",
            "    accuracy                           0.88     45211\n",
            "   macro avg       0.72      0.72      0.72     45211\n",
            "weighted avg       0.88      0.88      0.88     45211\n",
            "\n"
          ]
        }
      ]
    },
    {
      "cell_type": "code",
      "source": [
        "X_Pred1 = rf.predict(Xtest)\n",
        "XPred1 = rf.predict(Xtrain)\n",
        "print(\"Train Accuracy:\", metrics.accuracy_score(Ytrain,XPred1))\n",
        "print(\"Test Accuracy:\", metrics.accuracy_score(Ytest,X_Pred1))\n",
        "print(\"Confusion Matrix for Decision Tree:\")\n",
        "print(confusion_matrix(Ytest,X_Pred1))\n",
        "print('Printing the precision and recall, among other metrics')\n",
        "print(metrics.classification_report(Ytest, X_Pred1))"
      ],
      "metadata": {
        "colab": {
          "base_uri": "https://localhost:8080/"
        },
        "id": "jftShNP3lJgb",
        "outputId": "844fe369-b6ba-4787-c912-082f4b40e182"
      },
      "execution_count": null,
      "outputs": [
        {
          "output_type": "stream",
          "name": "stdout",
          "text": [
            "Train Accuracy: 1.0\n",
            "Test Accuracy: 0.9116365486275464\n",
            "Confusion Matrix for Decision Tree:\n",
            "[[39233   689]\n",
            " [ 3306  1983]]\n",
            "Printing the precision and recall, among other metrics\n",
            "              precision    recall  f1-score   support\n",
            "\n",
            "          no       0.92      0.98      0.95     39922\n",
            "         yes       0.74      0.37      0.50      5289\n",
            "\n",
            "    accuracy                           0.91     45211\n",
            "   macro avg       0.83      0.68      0.72     45211\n",
            "weighted avg       0.90      0.91      0.90     45211\n",
            "\n"
          ]
        }
      ]
    },
    {
      "cell_type": "code",
      "source": [
        "import time\n",
        "start_time = time.time()\n",
        "print(\"RandomizedSearchCV-Decision tree\")\n",
        "parameters={'min_samples_leaf' : range(10,300,10),'max_depth': \n",
        "            range(5,30,2),'criterion':['gini','entropy']}\n",
        "dt_random = RandomizedSearchCV(dt,parameters,n_iter=25,cv=5)\n",
        "dt_random.fit(Xtrain, Ytrain)\n",
        "grid_parm=dt_random.best_params_\n",
        "print(grid_parm)\n",
        "print(\"accuracy Score for Decision Tree:{0:6f}\".\n",
        "      format(dt_random.score(Xtest,Ytest)))\n",
        "print(\"--- %s seconds ---\" % (time.time() - start_time))"
      ],
      "metadata": {
        "colab": {
          "base_uri": "https://localhost:8080/"
        },
        "id": "3Dh8Z0sXlN5b",
        "outputId": "fb9da4fb-a8ad-437a-db6f-7f9be721a2a2"
      },
      "execution_count": null,
      "outputs": [
        {
          "output_type": "stream",
          "name": "stdout",
          "text": [
            "RandomizedSearchCV-Decision tree\n",
            "{'min_samples_leaf': 20, 'max_depth': 21, 'criterion': 'gini'}\n",
            "accuracy Score for Decision Tree:0.896839\n",
            "--- 3.5849366188049316 seconds ---\n"
          ]
        }
      ]
    },
    {
      "cell_type": "code",
      "source": [
        "import time\n",
        "start_time = time.time()\n",
        "print(\"GridSearchCV-Decision tree\")\n",
        "dt_grid = GridSearchCV(dt,parameters)\n",
        "dt_grid.fit(Xtrain, Ytrain)\n",
        "grid_parm1=dt_grid.best_params_\n",
        "print(grid_parm1)\n",
        "print(\"accuracy Score for Decision Tree:{0:6f}\".\n",
        "      format(dt_grid.score(Xtest,Ytest)))\n",
        "print(\"--- %s seconds ---\" % (time.time() - start_time))"
      ],
      "metadata": {
        "colab": {
          "base_uri": "https://localhost:8080/"
        },
        "id": "zDszSkWUlSc1",
        "outputId": "e127f102-855b-4961-98cc-2ce1d77addfb"
      },
      "execution_count": null,
      "outputs": [
        {
          "output_type": "stream",
          "name": "stdout",
          "text": [
            "GridSearchCV-Decision tree\n",
            "{'criterion': 'entropy', 'max_depth': 5, 'min_samples_leaf': 30}\n",
            "accuracy Score for Decision Tree:0.896220\n",
            "--- 96.86831188201904 seconds ---\n"
          ]
        }
      ]
    },
    {
      "cell_type": "code",
      "source": [
        "dtRand = DecisionTreeClassifier(**grid_parm)\n",
        "dtGrid = DecisionTreeClassifier(**grid_parm1)\n",
        "\n",
        "dtRand.fit(Xtrain,Ytrain)\n",
        "dtRand_predict = dtRand.predict(Xtest)\n",
        "dtGrid.fit(Xtrain,Ytrain)\n",
        "dtGrid_predict = dtGrid.predict(Xtest)"
      ],
      "metadata": {
        "id": "fdZhvnWolqqM"
      },
      "execution_count": null,
      "outputs": []
    },
    {
      "cell_type": "code",
      "source": [
        "print(\"Test Accuracy:\", metrics.accuracy_score(Ytest,dtRand_predict))\n",
        "print(\"Confusion Matrix for Decision Tree:\")\n",
        "print(confusion_matrix(Ytest,dtRand_predict))\n",
        "print('Printing the precision and recall, among other metrics')\n",
        "print(metrics.classification_report(Ytest, dtRand_predict))\n",
        "clf_cv_score = cross_val_score(dtRand, Xtrain, Ytrain, cv=5, scoring=\"balanced_accuracy\")\n",
        "print(clf_cv_score)"
      ],
      "metadata": {
        "colab": {
          "base_uri": "https://localhost:8080/"
        },
        "id": "ayxgnuzylsJd",
        "outputId": "b672c27c-1748-4cb3-a6ea-03a4fb9d96c1"
      },
      "execution_count": null,
      "outputs": [
        {
          "output_type": "stream",
          "name": "stdout",
          "text": [
            "Test Accuracy: 0.896839264780695\n",
            "Confusion Matrix for Decision Tree:\n",
            "[[38656  1266]\n",
            " [ 3398  1891]]\n",
            "Printing the precision and recall, among other metrics\n",
            "              precision    recall  f1-score   support\n",
            "\n",
            "          no       0.92      0.97      0.94     39922\n",
            "         yes       0.60      0.36      0.45      5289\n",
            "\n",
            "    accuracy                           0.90     45211\n",
            "   macro avg       0.76      0.66      0.70     45211\n",
            "weighted avg       0.88      0.90      0.89     45211\n",
            "\n",
            "[0.64315476 0.62567308 0.64072115 0.63884615 0.65514423]\n"
          ]
        }
      ]
    },
    {
      "cell_type": "code",
      "source": [
        "print(\"Test Accuracy:\", metrics.accuracy_score(Ytest,dtGrid_predict))\n",
        "print(\"Confusion Matrix for Decision Tree:\")\n",
        "print(confusion_matrix(Ytest,dtGrid_predict))\n",
        "print('Printing the precision and recall, among other metrics')"
      ],
      "metadata": {
        "colab": {
          "base_uri": "https://localhost:8080/"
        },
        "id": "CBr0LBB9lu89",
        "outputId": "475ab643-6de6-4a72-afc1-1b4a137366e4"
      },
      "execution_count": null,
      "outputs": [
        {
          "output_type": "stream",
          "name": "stdout",
          "text": [
            "Test Accuracy: 0.8962199464732035\n",
            "Confusion Matrix for Decision Tree:\n",
            "[[38959   963]\n",
            " [ 3729  1560]]\n",
            "Printing the precision and recall, among other metrics\n"
          ]
        }
      ]
    },
    {
      "cell_type": "code",
      "source": [
        "import time\n",
        "start_time = time.time()\n",
        "\n",
        "print(\"RandomizedSearchCV-Random forest\")\n",
        "rand_parameters={'min_samples_leaf' : range(10,100,10),'max_depth': \n",
        "            range(1,10,2),'max_features':[10,20,30],'n_estimators':[20,30,40]}\n",
        "rf_random = RandomizedSearchCV(rf,rand_parameters,n_iter=25,cv=5)\n",
        "rf_random.fit(Xtrain, Ytrain)\n",
        "grid_parm=rf_random.best_params_\n",
        "print(grid_parm)\n",
        "print(\"accuracy Score for Decision Tree:{0:6f}\".\n",
        "      format(rf_random.score(Xtest,Ytest)))\n",
        "\n",
        "print(\"--- %s seconds ---\" % (time.time() - start_time))"
      ],
      "metadata": {
        "colab": {
          "base_uri": "https://localhost:8080/"
        },
        "id": "misXPJWHlzc0",
        "outputId": "fc1be666-6830-43bc-c930-207c32d181b5"
      },
      "execution_count": null,
      "outputs": [
        {
          "output_type": "stream",
          "name": "stdout",
          "text": [
            "RandomizedSearchCV-Random forest\n",
            "{'n_estimators': 30, 'min_samples_leaf': 10, 'max_features': 20, 'max_depth': 5}\n",
            "accuracy Score for Decision Tree:0.900069\n",
            "--- 16.085914611816406 seconds ---\n"
          ]
        }
      ]
    },
    {
      "cell_type": "code",
      "source": [
        "import time\n",
        "start_time = time.time()\n",
        "\n",
        "print(\"GridSearchCV-Random Forest\")\n",
        "rf_grid = GridSearchCV(rf,rand_parameters)\n",
        "rf_grid.fit(Xtrain, Ytrain)\n",
        "grid_parm1=rf_grid.best_params_\n",
        "print(grid_parm1)\n",
        "print(\"accuracy Score for Decision Tree:{0:6f}\".\n",
        "      format(rf_grid.score(Xtest,Ytest)))\n",
        "\n",
        "print(\"--- %s seconds ---\" % (time.time() - start_time))"
      ],
      "metadata": {
        "colab": {
          "base_uri": "https://localhost:8080/"
        },
        "id": "zrGDts-LmDNW",
        "outputId": "290429e3-dce0-443d-f4a7-db205378bb8a"
      },
      "execution_count": null,
      "outputs": [
        {
          "output_type": "stream",
          "name": "stdout",
          "text": [
            "GridSearchCV-Random Forest\n",
            "{'max_depth': 5, 'max_features': 30, 'min_samples_leaf': 10, 'n_estimators': 20}\n",
            "accuracy Score for Decision Tree:0.901927\n",
            "--- 284.59119629859924 seconds ---\n"
          ]
        }
      ]
    },
    {
      "cell_type": "code",
      "source": [
        "rfRand = RandomForestClassifier(**grid_parm)\n",
        "rfGrid = RandomForestClassifier(**grid_parm1)\n",
        "\n",
        "rfRand.fit(Xtrain,Ytrain)\n",
        "rfRand_predict = rfRand.predict(Xtest)\n",
        "rfGrid.fit(Xtrain,Ytrain)\n",
        "rfGrid_predict = rfGrid.predict(Xtest)"
      ],
      "metadata": {
        "id": "kKeTR3DFm4BI"
      },
      "execution_count": null,
      "outputs": []
    },
    {
      "cell_type": "code",
      "source": [
        "print(\"Test Accuracy:\", metrics.accuracy_score(Ytest,rfRand_predict))\n",
        "print(\"Confusion Matrix for Decision Tree:\")\n",
        "print(confusion_matrix(Ytest,rfRand_predict))\n",
        "print('Printing the precision and recall, among other metrics')\n",
        "print(metrics.classification_report(Ytest, rfRand_predict))\n",
        "clf_cv_score = cross_val_score(rfRand, Xtrain, Ytrain, cv=5, scoring=\"balanced_accuracy\")\n",
        "print(clf_cv_score)"
      ],
      "metadata": {
        "colab": {
          "base_uri": "https://localhost:8080/"
        },
        "id": "RDsytBxwnCcB",
        "outputId": "4884bbe9-b197-4228-c23b-70f5ab92138f"
      },
      "execution_count": null,
      "outputs": [
        {
          "output_type": "stream",
          "name": "stdout",
          "text": [
            "Test Accuracy: 0.9265366155751664\n",
            "Confusion Matrix for Decision Tree:\n",
            "[[11836   584]\n",
            " [  365   133]]\n",
            "Printing the precision and recall, among other metrics\n",
            "              precision    recall  f1-score   support\n",
            "\n",
            "          No       0.97      0.95      0.96     12420\n",
            "         Yes       0.19      0.27      0.22       498\n",
            "\n",
            "    accuracy                           0.93     12918\n",
            "   macro avg       0.58      0.61      0.59     12918\n",
            "weighted avg       0.94      0.93      0.93     12918\n",
            "\n",
            "[0.74615385 0.72740385 0.5375     0.5        0.5443038 ]\n"
          ]
        }
      ]
    },
    {
      "cell_type": "code",
      "source": [
        "print(\"Test Accuracy:\", metrics.accuracy_score(Ytest,rfGrid_predict))\n",
        "print(\"Confusion Matrix for Decision Tree:\")\n",
        "print(confusion_matrix(Ytest,rfGrid_predict))\n",
        "print('Printing the precision and recall, among other metrics')\n",
        "print(metrics.classification_report(Ytest, rfGrid_predict))"
      ],
      "metadata": {
        "colab": {
          "base_uri": "https://localhost:8080/"
        },
        "id": "3yqRW1GmnHTc",
        "outputId": "83f520a8-f360-48e0-9d48-3e13fceed981"
      },
      "execution_count": null,
      "outputs": [
        {
          "output_type": "stream",
          "name": "stdout",
          "text": [
            "Test Accuracy: 0.9272333178510606\n",
            "Confusion Matrix for Decision Tree:\n",
            "[[11847   573]\n",
            " [  367   131]]\n",
            "Printing the precision and recall, among other metrics\n",
            "              precision    recall  f1-score   support\n",
            "\n",
            "          No       0.97      0.95      0.96     12420\n",
            "         Yes       0.19      0.26      0.22       498\n",
            "\n",
            "    accuracy                           0.93     12918\n",
            "   macro avg       0.58      0.61      0.59     12918\n",
            "weighted avg       0.94      0.93      0.93     12918\n",
            "\n"
          ]
        }
      ]
    }
  ]
}